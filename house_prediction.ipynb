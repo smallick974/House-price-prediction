{
 "cells": [
  {
   "cell_type": "code",
   "execution_count": 1,
   "id": "419ed15e-a4d0-4499-bb2e-509e5a78f35c",
   "metadata": {},
   "outputs": [
    {
     "name": "stderr",
     "output_type": "stream",
     "text": [
      "/var/tmp/ipykernel_101108/3864715654.py:1: DeprecationWarning: The module `kfp.v2` is deprecated and will be removed in a futureversion. Please import directly from the `kfp` namespace, instead of `kfp.v2`.\n",
      "  from kfp.v2 import dsl\n"
     ]
    }
   ],
   "source": [
    "from kfp.v2 import dsl\n",
    "from kfp.v2.dsl import Artifact, Dataset, Input, Model, \\\n",
    "                        Output, Metrics, Markdown, HTML, component, OutputPath, InputPath\n",
    "from kfp.v2 import compiler\n",
    "from google.cloud import aiplatform as vertex_\n",
    "from google.cloud.aiplatform import pipeline_jobs\n",
    "\n",
    "from datetime import datetime\n",
    "import pandas as pd"
   ]
  },
  {
   "cell_type": "code",
   "execution_count": 2,
   "id": "c8994afa-8863-4453-ac50-f0450c1e4ce4",
   "metadata": {},
   "outputs": [
    {
     "name": "stdout",
     "output_type": "stream",
     "text": [
      "Operation \"operations/acat.p2-105717193570-338b2364-fefd-42a0-b8fd-6c54ca59f604\" finished successfully.\n"
     ]
    }
   ],
   "source": [
    "!gcloud services enable compute.googleapis.com \\\n",
    "                       containerregistry.googleapis.com  \\\n",
    "                       aiplatform.googleapis.com  \\\n",
    "                       cloudbuild.googleapis.com \\\n",
    "                       cloudfunctions.googleapis.com"
   ]
  },
  {
   "cell_type": "code",
   "execution_count": 3,
   "id": "ac18f8a5-4797-4e7c-bd3d-a2dc35ff060b",
   "metadata": {},
   "outputs": [],
   "source": [
    "PROJECT_ID = !gcloud config get-value project\n",
    "PROJECT_ID = PROJECT_ID[0]\n",
    "\n",
    "REGION = 'us-central1'"
   ]
  },
  {
   "cell_type": "code",
   "execution_count": 4,
   "id": "c3e20cef-25f3-4f45-a2fb-5c1eebe8f2fe",
   "metadata": {},
   "outputs": [
    {
     "data": {
      "text/plain": [
       "'us-central1-docker.pkg.dev/dulcet-antler-403116/houseprice/houseprice_training:latest'"
      ]
     },
     "execution_count": 4,
     "metadata": {},
     "output_type": "execute_result"
    }
   ],
   "source": [
    "# define base image\n",
    "BASE_IMAGE = f\"us-central1-docker.pkg.dev/{PROJECT_ID}/houseprice/houseprice_training:latest\"\n",
    "BASE_IMAGE"
   ]
  },
  {
   "cell_type": "code",
   "execution_count": 5,
   "id": "033c2b18-fcaf-4e02-9a48-12b146d81a97",
   "metadata": {},
   "outputs": [],
   "source": [
    "# define the bucket variable\n",
    "BUCKET_NAME=\"gs://\"+PROJECT_ID+\"-houseprice\""
   ]
  },
  {
   "cell_type": "code",
   "execution_count": 6,
   "id": "1fc09b88-bf06-447b-990c-d38859e3155b",
   "metadata": {},
   "outputs": [],
   "source": [
    "PIPELINE_ROOT = f\"{BUCKET_NAME}/pipeline_root_houseprice/\""
   ]
  },
  {
   "cell_type": "code",
   "execution_count": 7,
   "id": "c4e171f1-c4a4-4903-8078-b9650ca5db95",
   "metadata": {},
   "outputs": [],
   "source": [
    "output = \"output_files/\""
   ]
  },
  {
   "cell_type": "code",
   "execution_count": 8,
   "id": "9e87cf55-75c0-4a3f-b91b-4cc0a8cdef8b",
   "metadata": {},
   "outputs": [
    {
     "name": "stderr",
     "output_type": "stream",
     "text": [
      "/var/tmp/ipykernel_101108/3327703504.py:2: DeprecationWarning: output_component_file parameter is deprecated and will eventually be removed. Please use `Compiler().compile()` to compile a component instead.\n",
      "  @component(\n",
      "/var/tmp/ipykernel_101108/3327703504.py:7: DeprecationWarning: output_component_file parameter is deprecated and will eventually be removed. Please use `Compiler().compile()` to compile a component instead.\n",
      "  def get_houseprice_data(\n"
     ]
    }
   ],
   "source": [
    "# create component for data ingestion\n",
    "@component(\n",
    "    base_image = BASE_IMAGE,\n",
    "    output_component_file = output + \"get_data.yaml\",\n",
    ")\n",
    "\n",
    "def get_houseprice_data(\n",
    "    filepath: str,\n",
    "    dataset_train: Output[Dataset],\n",
    "):\n",
    "    import pandas as pd\n",
    "    df_train = pd.read_csv(filepath + '/train.csv')\n",
    "    df_train.to_csv(dataset_train.path, index=False)"
   ]
  },
  {
   "cell_type": "code",
   "execution_count": 9,
   "id": "67ac9e41-a362-4627-ab18-776f76465891",
   "metadata": {},
   "outputs": [
    {
     "name": "stderr",
     "output_type": "stream",
     "text": [
      "/var/tmp/ipykernel_101108/3351805782.py:2: DeprecationWarning: output_component_file parameter is deprecated and will eventually be removed. Please use `Compiler().compile()` to compile a component instead.\n",
      "  @component(\n",
      "/var/tmp/ipykernel_101108/3351805782.py:7: DeprecationWarning: output_component_file parameter is deprecated and will eventually be removed. Please use `Compiler().compile()` to compile a component instead.\n",
      "  def preprocess_houseprice_data(\n"
     ]
    }
   ],
   "source": [
    "# create component for data pre-processing\n",
    "@component(\n",
    "    base_image = BASE_IMAGE,\n",
    "    output_component_file = output + \"preprocessing_house_data.yaml\"\n",
    ")\n",
    "\n",
    "def preprocess_houseprice_data(\n",
    "    train_df: Input[Dataset],\n",
    "    dataset_train_preprocessed: Output[Dataset],\n",
    "):\n",
    "    import pandas as pd\n",
    "    from src.data_preprocessing.preprocessing import data_preprocessing_pipeline\n",
    "    \n",
    "    train_df = pd.read_csv(train_df.path)\n",
    "    train_df_preprocessed = data_preprocessing_pipeline(train_df)\n",
    "    \n",
    "    train_df_preprocessed.to_csv(train_df_preprocessed.path, index=False)\n",
    "    "
   ]
  },
  {
   "cell_type": "code",
   "execution_count": 10,
   "id": "747b439e-ebec-4800-ab70-a35418b482e5",
   "metadata": {},
   "outputs": [
    {
     "name": "stderr",
     "output_type": "stream",
     "text": [
      "/var/tmp/ipykernel_101108/4166954655.py:2: DeprecationWarning: output_component_file parameter is deprecated and will eventually be removed. Please use `Compiler().compile()` to compile a component instead.\n",
      "  @component(\n",
      "/var/tmp/ipykernel_101108/4166954655.py:7: DeprecationWarning: output_component_file parameter is deprecated and will eventually be removed. Please use `Compiler().compile()` to compile a component instead.\n",
      "  def train_test_split(dataset_in: Input[Dataset],\n"
     ]
    }
   ],
   "source": [
    "# create component for train-test split\n",
    "@component(\n",
    "    base_image = BASE_IMAGE,\n",
    "    output_component_file=output + \"train_test_split.yaml\",\n",
    ")\n",
    "\n",
    "def train_test_split(dataset_in: Input[Dataset],\n",
    "                     dataset_train: Output[Dataset],\n",
    "                     dataset_test: Output[Dataset],\n",
    "                     test_size: float = 0.2):\n",
    "\n",
    "    import pandas as pd\n",
    "    from sklearn.model_selection import train_test_split\n",
    "\n",
    "    df = pd.read_csv(dataset_in.path)\n",
    "    df_train, df_test = train_test_split(df, test_size=test_size, random_state=42)\n",
    "\n",
    "    df_train.to_csv(dataset_train.path, index=False)\n",
    "    df_test.to_csv(dataset_test.path, index=False)\n",
    "    \n",
    "    "
   ]
  },
  {
   "cell_type": "code",
   "execution_count": 11,
   "id": "b4bcd48c-3cb3-4f04-8f20-0ad26d1164da",
   "metadata": {},
   "outputs": [
    {
     "name": "stderr",
     "output_type": "stream",
     "text": [
      "/var/tmp/ipykernel_101108/431410048.py:2: DeprecationWarning: output_component_file parameter is deprecated and will eventually be removed. Please use `Compiler().compile()` to compile a component instead.\n",
      "  @component(\n",
      "/var/tmp/ipykernel_101108/431410048.py:7: DeprecationWarning: output_component_file parameter is deprecated and will eventually be removed. Please use `Compiler().compile()` to compile a component instead.\n",
      "  def train_houseprice(\n"
     ]
    }
   ],
   "source": [
    "# crete component file for model training\n",
    "@component(\n",
    "    base_image = BASE_IMAGE,\n",
    "    output_component_file = output + \"model_training.yaml\"\n",
    ")\n",
    "\n",
    "def train_houseprice(\n",
    "    dataset_train: Input[Dataset],\n",
    "    dataset_test: Input[Dataset],\n",
    "    best_params: Output[Markdown],\n",
    "    shap_summary_plot: Output[HTML],\n",
    "    model: Output[Model], \n",
    "):\n",
    "    \n",
    "    import pandas as pd\n",
    "    import pickle\n",
    "    import shap\n",
    "    from src.modelling.train import HousePriceModel\n",
    "    from src.utils.utils import get_image_data\n",
    "    \n",
    "    TARGET = 'SalePrice'\n",
    "\n",
    "    # Read train and test data\n",
    "    train_data = pd.read_csv(dataset_train.path)\n",
    "    test_data = pd.read_csv(dataset_test.path)\n",
    "    \n",
    "    # Instantiate the model class\n",
    "    # performing hyperparameter tuning using train_data and evaluate using test_data\n",
    "    # and finally train the final model using the entire (train+test) dataset.\n",
    "    house_price_model = HousePriceModel(test_data.copy(),   \n",
    "                                        target=TARGET,\n",
    "                                        n_kfold_splits=3,\n",
    "                                        n_trials=10, \n",
    "                                        random_state=42)\n",
    "                                        \n",
    "    # Create X_train and y_train\n",
    "    X_train = train_data.drop(TARGET, axis=1)\n",
    "    y_train = train_data[TARGET]\n",
    "\n",
    "    # Fit the model (training pipeline consists of feature engineering, feature selection and \n",
    "    #training an xgboost model)\n",
    "    house_price_model.fit(X_train, y_train)\n",
    "    \n",
    "    # Save the best hyperparameters as an artifact\n",
    "    with open(best_params.path, \"w\") as f:\n",
    "        f.write(str(house_price_model.best_params))\n",
    "    \n",
    "    # plot shap summary plot\n",
    "    shap.summary_plot(house_price_model.shap_values, house_price_model.X_test_transformed, max_display=20) \n",
    "    \n",
    "    # get image data to render the image in the html file\n",
    "    shap_plot_dataurl = get_image_data() \n",
    "    html_content = f'<html><head></head><body><h1>Shap Summary Plot</h1>\\n<img src={shap_plot_dataurl} \\\n",
    "                        width=\"97%\"></body></html>' \n",
    "    \n",
    "    # Save shap summary plot as an html artifact\n",
    "    with open(shap_summary_plot.path, \"w\") as f: \n",
    "        f.write(html_content)\n",
    "      \n",
    "    model.metadata[\"framework\"] = \"xgboost\" \n",
    "    \n",
    "    # Save the model as an artifact\n",
    "    with open(model.path, 'wb') as f: \n",
    "        pickle.dump({\n",
    "            \"pipeline\": house_price_model.model_pipeline,\n",
    "            \"target\": house_price_model.target,\n",
    "            \"scores_dict\": house_price_model.scores}, f)"
   ]
  },
  {
   "cell_type": "code",
   "execution_count": 12,
   "id": "a6eaf096-d6eb-42e4-b2c7-e7c1ecced180",
   "metadata": {},
   "outputs": [
    {
     "name": "stderr",
     "output_type": "stream",
     "text": [
      "/var/tmp/ipykernel_101108/1723832321.py:2: DeprecationWarning: output_component_file parameter is deprecated and will eventually be removed. Please use `Compiler().compile()` to compile a component instead.\n",
      "  @component(\n",
      "/var/tmp/ipykernel_101108/1723832321.py:7: DeprecationWarning: output_component_file parameter is deprecated and will eventually be removed. Please use `Compiler().compile()` to compile a component instead.\n",
      "  def evaluate_houseprice(\n"
     ]
    }
   ],
   "source": [
    "# create component file to evaluate the model\n",
    "@component(\n",
    "    base_image = BASE_IMAGE,\n",
    "    output_component_file = output + \"model_evaluation.yaml\"\n",
    ")\n",
    "\n",
    "def evaluate_houseprice(\n",
    "    houseprice_model: Input[Model],\n",
    "    metrics_baseline: Output[Metrics],\n",
    "    metrics_train: Output[Metrics],\n",
    "    metrics_test: Output[Metrics]\n",
    "):\n",
    "    \n",
    "    import pickle\n",
    "    \n",
    "    file_name = houseprice_model.path\n",
    "    with open(file_name, 'rb') as file:  \n",
    "        model_data = pickle.load(file)\n",
    "    \n",
    "    scores = model_data[\"scores_dict\"] \n",
    "\n",
    "    def log_metrics(scores, metric):\n",
    "        for metric_name, val in scores.items():\n",
    "            metric.log_metric(metric_name, float(val))\n",
    "            \n",
    "    log_metrics(scores[\"baseline_scores\"], metrics_baseline)        \n",
    "    log_metrics(scores[\"train_scores\"], metrics_train)\n",
    "    log_metrics(scores[\"test_scores\"], metrics_test)\n"
   ]
  },
  {
   "cell_type": "code",
   "execution_count": 13,
   "id": "1cfe647c-aeec-40bd-9774-f1052b96bbc0",
   "metadata": {},
   "outputs": [
    {
     "name": "stderr",
     "output_type": "stream",
     "text": [
      "/var/tmp/ipykernel_101108/3680954458.py:2: DeprecationWarning: output_component_file parameter is deprecated and will eventually be removed. Please use `Compiler().compile()` to compile a component instead.\n",
      "  @component(\n",
      "/var/tmp/ipykernel_101108/3680954458.py:8: DeprecationWarning: output_component_file parameter is deprecated and will eventually be removed. Please use `Compiler().compile()` to compile a component instead.\n",
      "  def deploy_houseprice(\n"
     ]
    }
   ],
   "source": [
    "# create component file to deploy the model\n",
    "@component(\n",
    "    base_image = BASE_IMAGE,\n",
    "    install_kfp_package = False,\n",
    "    output_component_file = output + \"model_deployment.yaml\",\n",
    ")\n",
    "\n",
    "def deploy_houseprice(\n",
    "        serving_container_image_uri: str,\n",
    "        display_name: str,\n",
    "        model_endpoint: str,\n",
    "        gcp_project: str,\n",
    "        gcp_region: str,\n",
    "        model: Input[Model],\n",
    "        vertex_model: Output[Model],\n",
    "        vertex_endpoint: Output[Model]\n",
    "):\n",
    "    from google.cloud import aiplatform as vertex_ai\n",
    "    from pathlib import Path\n",
    "    \n",
    "    # Checks existing Vertex AI Enpoint or creates Endpoint if it is not exist.\n",
    "    def create_endpoint ():\n",
    "        endpoints = vertex_ai.Endpoint.list(\n",
    "        filter='display_name=\"{}\"'.format(model_endpoint),\n",
    "        order_by='create_time desc',\n",
    "        project=gcp_project,\n",
    "        location=gcp_region,\n",
    "        )\n",
    "        if len(endpoints) > 0:\n",
    "            endpoint = endpoints[0] # most recently created\n",
    "        else:\n",
    "            endpoint = vertex_ai.Endpoint.create(\n",
    "                display_name=model_endpoint,\n",
    "                project=gcp_project,\n",
    "                location=gcp_region\n",
    "        )\n",
    "        return endpoint\n",
    "\n",
    "    endpoint = create_endpoint()\n",
    "    \n",
    "    # Uploads trained model to Vertex AI Model Registry or creates new model version into existing uploaded one.\n",
    "    def upload_model ():\n",
    "        listed_model = vertex_ai.Model.list(\n",
    "        filter='display_name=\"{}\"'.format(display_name),\n",
    "        project=gcp_project,\n",
    "        location=gcp_region,\n",
    "        )\n",
    "        if len(listed_model) > 0:\n",
    "            model_version = listed_model[0] # most recently created\n",
    "            model_upload = vertex_ai.Model.upload(\n",
    "                    display_name=display_name,\n",
    "                    parent_model=model_version.resource_name,\n",
    "                    artifact_uri=str(Path(model.path).parent),\n",
    "                    serving_container_image_uri=serving_container_image_uri,\n",
    "                    location=gcp_region,\n",
    "                    serving_container_predict_route=\"/predict\",\n",
    "                    serving_container_health_route=\"/health\"\n",
    "            )\n",
    "        else:\n",
    "            model_upload = vertex_ai.Model.upload(\n",
    "                    display_name=display_name,\n",
    "                    artifact_uri=str(Path(model.path).parent),\n",
    "                    serving_container_image_uri=serving_container_image_uri,\n",
    "                    location=gcp_region,\n",
    "                    serving_container_predict_route=\"/predict\",\n",
    "                    serving_container_health_route=\"/health\"\n",
    "            )\n",
    "        return model_upload\n",
    "    \n",
    "    uploaded_model = upload_model()\n",
    "    \n",
    "    # Save data to the output params\n",
    "    vertex_model.uri = uploaded_model.resource_name\n",
    "\n",
    "    # Deploys trained model to Vertex AI Endpoint\n",
    "    model_deploy = uploaded_model.deploy(\n",
    "        machine_type='n1-standard-4',\n",
    "        endpoint=endpoint,\n",
    "        traffic_split={\"0\": 100},\n",
    "        deployed_model_display_name=display_name,\n",
    "    )\n",
    "\n",
    "    # Save data to the output params\n",
    "    vertex_endpoint.uri = model_deploy.resource_name"
   ]
  },
  {
   "cell_type": "code",
   "execution_count": 14,
   "id": "471dc8bd-520e-47ab-a743-5bf535155cc3",
   "metadata": {},
   "outputs": [
    {
     "data": {
      "text/plain": [
       "'pipeline-houseprice-job20231026182541'"
      ]
     },
     "execution_count": 14,
     "metadata": {},
     "output_type": "execute_result"
    }
   ],
   "source": [
    "# USE TIMESTAMP TO DEFINE UNIQUE PIPELINE NAMES\n",
    "TIMESTAMP = datetime.now().strftime(\"%Y%m%d%H%M%S\")\n",
    "DISPLAY_NAME = 'pipeline-houseprice-job{}'.format(TIMESTAMP)\n",
    "DISPLAY_NAME"
   ]
  },
  {
   "cell_type": "code",
   "execution_count": 15,
   "id": "824d08df-3add-40a9-ad98-835bbd1877c3",
   "metadata": {},
   "outputs": [],
   "source": [
    "# create component to create the pipeline\n",
    "@dsl.pipeline(\n",
    "    pipeline_root=PIPELINE_ROOT,\n",
    "    # A name for the pipeline. Use to determine the pipeline Context.\n",
    "    name=\"pipeline-houseprice\"   \n",
    ")\n",
    "\n",
    "def pipeline(\n",
    "    data_filepath: str = f\"{BUCKET_NAME}/data\",\n",
    "    project: str = PROJECT_ID,\n",
    "    region: str = REGION, \n",
    "    display_name: str = DISPLAY_NAME,    \n",
    "    serving_container_image_uri: str = f\"{REGION}-docker.pkg.dev/{PROJECT_ID}/houseprice/houseprice_serving_image:latest\" # custom serving container image     \n",
    "):\n",
    "    data_op = get_houseprice_data(filepath=data_filepath)\n",
    "    data_preprocess_op = preprocess_houseprice_data(train_df=data_op.outputs[\"dataset_train\"])\n",
    "    train_test_split_op = train_test_split(dataset_in=data_preprocess_op.outputs[\"dataset_train_preprocessed\"])\n",
    "    train_model_op = train_houseprice(dataset_train=train_test_split_op.outputs[\"dataset_train\"], dataset_test=train_test_split_op.outputs[\"dataset_test\"])\n",
    "    model_evaluation_op = evaluate_houseprice(houseprice_model=train_model_op.outputs[\"model\"])\n",
    "           \n",
    "    deploy_model_op = deploy_houseprice(\n",
    "        model = train_model_op.outputs['model'],\n",
    "        gcp_project = project,\n",
    "        gcp_region = region, \n",
    "        serving_container_image_uri = serving_container_image_uri,\n",
    "        display_name = \"houseprice\",\n",
    "        model_endpoint = \"houseprice_endpoint\"\n",
    "    )"
   ]
  },
  {
   "cell_type": "code",
   "execution_count": 16,
   "id": "d0542712-fd1d-4f5e-b0aa-eb36e3d941de",
   "metadata": {},
   "outputs": [],
   "source": [
    "# COMPILE THE PIPELINE (to create the job spec file)\n",
    "\n",
    "compiler.Compiler().compile(pipeline_func=pipeline,\n",
    "        package_path='ml_houseprice.json')"
   ]
  },
  {
   "cell_type": "code",
   "execution_count": 17,
   "id": "1e372e68-5881-47b9-993a-92865edbf056",
   "metadata": {},
   "outputs": [],
   "source": [
    "# CREATE A RUN USING THE JOB SPEC FILE GENERATED \n",
    "\n",
    "start_pipeline = pipeline_jobs.PipelineJob(\n",
    "    display_name=\"houseprice-pipeline\",\n",
    "    template_path=\"ml_houseprice.json\",\n",
    "    enable_caching=False,\n",
    "    location=REGION,\n",
    ")"
   ]
  },
  {
   "cell_type": "code",
   "execution_count": 18,
   "id": "89a4c970-d68e-49b1-9d8e-be9a7e1f0197",
   "metadata": {},
   "outputs": [
    {
     "name": "stdout",
     "output_type": "stream",
     "text": [
      "Creating PipelineJob\n",
      "PipelineJob created. Resource name: projects/105717193570/locations/us-central1/pipelineJobs/pipeline-houseprice-20231026182541\n",
      "To use this PipelineJob in another session:\n",
      "pipeline_job = aiplatform.PipelineJob.get('projects/105717193570/locations/us-central1/pipelineJobs/pipeline-houseprice-20231026182541')\n",
      "View Pipeline Job:\n",
      "https://console.cloud.google.com/vertex-ai/locations/us-central1/pipelines/runs/pipeline-houseprice-20231026182541?project=105717193570\n",
      "PipelineJob projects/105717193570/locations/us-central1/pipelineJobs/pipeline-houseprice-20231026182541 current state:\n",
      "PipelineState.PIPELINE_STATE_RUNNING\n",
      "PipelineJob projects/105717193570/locations/us-central1/pipelineJobs/pipeline-houseprice-20231026182541 current state:\n",
      "PipelineState.PIPELINE_STATE_RUNNING\n",
      "PipelineJob projects/105717193570/locations/us-central1/pipelineJobs/pipeline-houseprice-20231026182541 current state:\n",
      "PipelineState.PIPELINE_STATE_RUNNING\n",
      "PipelineJob projects/105717193570/locations/us-central1/pipelineJobs/pipeline-houseprice-20231026182541 current state:\n",
      "PipelineState.PIPELINE_STATE_RUNNING\n",
      "PipelineJob projects/105717193570/locations/us-central1/pipelineJobs/pipeline-houseprice-20231026182541 current state:\n",
      "PipelineState.PIPELINE_STATE_RUNNING\n"
     ]
    },
    {
     "ename": "RuntimeError",
     "evalue": "Job failed with:\ncode: 9\nmessage: \"The DAG failed because some tasks failed. The failed tasks are: [preprocess-houseprice-data].; Job (project_id = dulcet-antler-403116, job_id = 3958672318795874304) is failed due to the above error.; Failed to handle the job: {project_number = 105717193570, job_id = 3958672318795874304}\"\n",
     "output_type": "error",
     "traceback": [
      "\u001b[0;31m---------------------------------------------------------------------------\u001b[0m",
      "\u001b[0;31mRuntimeError\u001b[0m                              Traceback (most recent call last)",
      "Cell \u001b[0;32mIn[18], line 3\u001b[0m\n\u001b[1;32m      1\u001b[0m \u001b[38;5;66;03m# RUN THE PIPELINE\u001b[39;00m\n\u001b[0;32m----> 3\u001b[0m \u001b[43mstart_pipeline\u001b[49m\u001b[38;5;241;43m.\u001b[39;49m\u001b[43mrun\u001b[49m\u001b[43m(\u001b[49m\u001b[43m)\u001b[49m\n",
      "File \u001b[0;32m/opt/conda/lib/python3.9/site-packages/google/cloud/aiplatform/pipeline_jobs.py:319\u001b[0m, in \u001b[0;36mPipelineJob.run\u001b[0;34m(self, service_account, network, sync, create_request_timeout)\u001b[0m\n\u001b[1;32m    300\u001b[0m \u001b[38;5;250m\u001b[39m\u001b[38;5;124;03m\"\"\"Run this configured PipelineJob and monitor the job until completion.\u001b[39;00m\n\u001b[1;32m    301\u001b[0m \n\u001b[1;32m    302\u001b[0m \u001b[38;5;124;03mArgs:\u001b[39;00m\n\u001b[0;32m   (...)\u001b[0m\n\u001b[1;32m    315\u001b[0m \u001b[38;5;124;03m        Optional. The timeout for the create request in seconds.\u001b[39;00m\n\u001b[1;32m    316\u001b[0m \u001b[38;5;124;03m\"\"\"\u001b[39;00m\n\u001b[1;32m    317\u001b[0m network \u001b[38;5;241m=\u001b[39m network \u001b[38;5;129;01mor\u001b[39;00m initializer\u001b[38;5;241m.\u001b[39mglobal_config\u001b[38;5;241m.\u001b[39mnetwork\n\u001b[0;32m--> 319\u001b[0m \u001b[38;5;28;43mself\u001b[39;49m\u001b[38;5;241;43m.\u001b[39;49m\u001b[43m_run\u001b[49m\u001b[43m(\u001b[49m\n\u001b[1;32m    320\u001b[0m \u001b[43m    \u001b[49m\u001b[43mservice_account\u001b[49m\u001b[38;5;241;43m=\u001b[39;49m\u001b[43mservice_account\u001b[49m\u001b[43m,\u001b[49m\n\u001b[1;32m    321\u001b[0m \u001b[43m    \u001b[49m\u001b[43mnetwork\u001b[49m\u001b[38;5;241;43m=\u001b[39;49m\u001b[43mnetwork\u001b[49m\u001b[43m,\u001b[49m\n\u001b[1;32m    322\u001b[0m \u001b[43m    \u001b[49m\u001b[43msync\u001b[49m\u001b[38;5;241;43m=\u001b[39;49m\u001b[43msync\u001b[49m\u001b[43m,\u001b[49m\n\u001b[1;32m    323\u001b[0m \u001b[43m    \u001b[49m\u001b[43mcreate_request_timeout\u001b[49m\u001b[38;5;241;43m=\u001b[39;49m\u001b[43mcreate_request_timeout\u001b[49m\u001b[43m,\u001b[49m\n\u001b[1;32m    324\u001b[0m \u001b[43m\u001b[49m\u001b[43m)\u001b[49m\n",
      "File \u001b[0;32m/opt/conda/lib/python3.9/site-packages/google/cloud/aiplatform/base.py:816\u001b[0m, in \u001b[0;36moptional_sync.<locals>.optional_run_in_thread.<locals>.wrapper\u001b[0;34m(*args, **kwargs)\u001b[0m\n\u001b[1;32m    814\u001b[0m     \u001b[38;5;28;01mif\u001b[39;00m \u001b[38;5;28mself\u001b[39m:\n\u001b[1;32m    815\u001b[0m         VertexAiResourceNounWithFutureManager\u001b[38;5;241m.\u001b[39mwait(\u001b[38;5;28mself\u001b[39m)\n\u001b[0;32m--> 816\u001b[0m     \u001b[38;5;28;01mreturn\u001b[39;00m \u001b[43mmethod\u001b[49m\u001b[43m(\u001b[49m\u001b[38;5;241;43m*\u001b[39;49m\u001b[43margs\u001b[49m\u001b[43m,\u001b[49m\u001b[43m \u001b[49m\u001b[38;5;241;43m*\u001b[39;49m\u001b[38;5;241;43m*\u001b[39;49m\u001b[43mkwargs\u001b[49m\u001b[43m)\u001b[49m\n\u001b[1;32m    818\u001b[0m \u001b[38;5;66;03m# callbacks to call within the Future (in same Thread)\u001b[39;00m\n\u001b[1;32m    819\u001b[0m internal_callbacks \u001b[38;5;241m=\u001b[39m []\n",
      "File \u001b[0;32m/opt/conda/lib/python3.9/site-packages/google/cloud/aiplatform/pipeline_jobs.py:356\u001b[0m, in \u001b[0;36mPipelineJob._run\u001b[0;34m(self, service_account, network, sync, create_request_timeout)\u001b[0m\n\u001b[1;32m    334\u001b[0m \u001b[38;5;250m\u001b[39m\u001b[38;5;124;03m\"\"\"Helper method to ensure network synchronization and to run\u001b[39;00m\n\u001b[1;32m    335\u001b[0m \u001b[38;5;124;03mthe configured PipelineJob and monitor the job until completion.\u001b[39;00m\n\u001b[1;32m    336\u001b[0m \n\u001b[0;32m   (...)\u001b[0m\n\u001b[1;32m    348\u001b[0m \u001b[38;5;124;03m        Optional. The timeout for the create request in seconds.\u001b[39;00m\n\u001b[1;32m    349\u001b[0m \u001b[38;5;124;03m\"\"\"\u001b[39;00m\n\u001b[1;32m    350\u001b[0m \u001b[38;5;28mself\u001b[39m\u001b[38;5;241m.\u001b[39msubmit(\n\u001b[1;32m    351\u001b[0m     service_account\u001b[38;5;241m=\u001b[39mservice_account,\n\u001b[1;32m    352\u001b[0m     network\u001b[38;5;241m=\u001b[39mnetwork,\n\u001b[1;32m    353\u001b[0m     create_request_timeout\u001b[38;5;241m=\u001b[39mcreate_request_timeout,\n\u001b[1;32m    354\u001b[0m )\n\u001b[0;32m--> 356\u001b[0m \u001b[38;5;28;43mself\u001b[39;49m\u001b[38;5;241;43m.\u001b[39;49m\u001b[43m_block_until_complete\u001b[49m\u001b[43m(\u001b[49m\u001b[43m)\u001b[49m\n",
      "File \u001b[0;32m/opt/conda/lib/python3.9/site-packages/google/cloud/aiplatform/pipeline_jobs.py:595\u001b[0m, in \u001b[0;36mPipelineJob._block_until_complete\u001b[0;34m(self)\u001b[0m\n\u001b[1;32m    592\u001b[0m \u001b[38;5;66;03m# Error is only populated when the job state is\u001b[39;00m\n\u001b[1;32m    593\u001b[0m \u001b[38;5;66;03m# JOB_STATE_FAILED or JOB_STATE_CANCELLED.\u001b[39;00m\n\u001b[1;32m    594\u001b[0m \u001b[38;5;28;01mif\u001b[39;00m \u001b[38;5;28mself\u001b[39m\u001b[38;5;241m.\u001b[39m_gca_resource\u001b[38;5;241m.\u001b[39mstate \u001b[38;5;129;01min\u001b[39;00m _PIPELINE_ERROR_STATES:\n\u001b[0;32m--> 595\u001b[0m     \u001b[38;5;28;01mraise\u001b[39;00m \u001b[38;5;167;01mRuntimeError\u001b[39;00m(\u001b[38;5;124m\"\u001b[39m\u001b[38;5;124mJob failed with:\u001b[39m\u001b[38;5;130;01m\\n\u001b[39;00m\u001b[38;5;132;01m%s\u001b[39;00m\u001b[38;5;124m\"\u001b[39m \u001b[38;5;241m%\u001b[39m \u001b[38;5;28mself\u001b[39m\u001b[38;5;241m.\u001b[39m_gca_resource\u001b[38;5;241m.\u001b[39merror)\n\u001b[1;32m    596\u001b[0m \u001b[38;5;28;01melse\u001b[39;00m:\n\u001b[1;32m    597\u001b[0m     _LOGGER\u001b[38;5;241m.\u001b[39mlog_action_completed_against_resource(\u001b[38;5;124m\"\u001b[39m\u001b[38;5;124mrun\u001b[39m\u001b[38;5;124m\"\u001b[39m, \u001b[38;5;124m\"\u001b[39m\u001b[38;5;124mcompleted\u001b[39m\u001b[38;5;124m\"\u001b[39m, \u001b[38;5;28mself\u001b[39m)\n",
      "\u001b[0;31mRuntimeError\u001b[0m: Job failed with:\ncode: 9\nmessage: \"The DAG failed because some tasks failed. The failed tasks are: [preprocess-houseprice-data].; Job (project_id = dulcet-antler-403116, job_id = 3958672318795874304) is failed due to the above error.; Failed to handle the job: {project_number = 105717193570, job_id = 3958672318795874304}\"\n"
     ]
    }
   ],
   "source": [
    "# RUN THE PIPELINE\n",
    "\n",
    "start_pipeline.run()"
   ]
  },
  {
   "cell_type": "code",
   "execution_count": null,
   "id": "4e58aaee-0eed-48c5-a6ea-ccbfa135f8ab",
   "metadata": {},
   "outputs": [],
   "source": []
  }
 ],
 "metadata": {
  "environment": {
   "kernel": "python3",
   "name": "tf2-gpu.2-6.m112",
   "type": "gcloud",
   "uri": "gcr.io/deeplearning-platform-release/tf2-gpu.2-6:m112"
  },
  "kernelspec": {
   "display_name": "Python 3",
   "language": "python",
   "name": "python3"
  },
  "language_info": {
   "codemirror_mode": {
    "name": "ipython",
    "version": 3
   },
   "file_extension": ".py",
   "mimetype": "text/x-python",
   "name": "python",
   "nbconvert_exporter": "python",
   "pygments_lexer": "ipython3",
   "version": "3.9.18"
  }
 },
 "nbformat": 4,
 "nbformat_minor": 5
}
